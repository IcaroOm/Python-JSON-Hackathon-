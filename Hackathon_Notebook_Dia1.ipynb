{
 "cells": [
  {
   "cell_type": "markdown",
   "id": "5ff825d5",
   "metadata": {},
   "source": [
    "# Notebook Oficina de Python + JSON\n",
    "\n",
    "\n",
    "- O formato JSON (JavaScript Object Notation) é um formato aberto usado como alternativa ao XML para a transferência de dados estruturados entre um servidor de Web e uma aplicação Web."
   ]
  },
  {
   "cell_type": "code",
   "execution_count": 126,
   "id": "944f3985",
   "metadata": {},
   "outputs": [],
   "source": [
    "import pandas as pd\n",
    "import json\n",
    "import urllib.request\n",
    "import folium\n",
    "from geopy.geocoders import Nominatim\n"
   ]
  },
  {
   "cell_type": "code",
   "execution_count": 16,
   "id": "18540cf6",
   "metadata": {},
   "outputs": [
    {
     "name": "stdout",
     "output_type": "stream",
     "text": [
      "[\n",
      "    {\n",
      "        \"id\": 1,\n",
      "        \"first_name\": \"Terrance\",\n",
      "        \"last_name\": \"Chasmar\",\n",
      "        \"gender\": \"Male\",\n",
      "        \"email\": \"tchasmar0@cbsnews.com\"\n",
      "    },\n",
      "    {\n",
      "        \"id\": 2,\n",
      "        \"first_name\": \"Lorenzo\",\n",
      "        \"last_name\": \"Elgram\",\n",
      "        \"gender\": \"Male\",\n",
      "        \"email\": \"lelgram1@bravesites.com\"\n",
      "    },\n",
      "    {\n",
      "        \"id\": 3,\n",
      "        \"first_name\": \"Fabe\",\n",
      "        \"last_name\": \"Cheesley\",\n",
      "        \"gender\": \"Male\",\n",
      "        \"email\": \"fcheesley2@nymag.com\"\n",
      "    },\n",
      "    {\n",
      "        \"id\": 4,\n",
      "        \"first_name\": \"Abigael\",\n",
      "        \"last_name\": \"Robion\",\n",
      "        \"gender\": \"Female\",\n",
      "        \"email\": \"arobion3@xrea.com\"\n",
      "    },\n",
      "    {\n",
      "        \"id\": 5,\n",
      "        \"first_name\": \"Tim\",\n",
      "        \"last_name\": \"Lethieulier\",\n",
      "        \"gender\": \"Male\",\n",
      "        \"email\": \"tlethieulier4@tripod.com\"\n",
      "    },\n",
      "    {\n",
      "        \"id\": 6,\n",
      "        \"first_name\": \"Dunn\",\n",
      "        \"last_name\": \"Tixier\",\n",
      "        \"gender\": \"Male\",\n",
      "        \"email\": \"dtixier5@independent.co.uk\"\n",
      "    },\n",
      "    {\n",
      "        \"id\": 7,\n",
      "   \n"
     ]
    }
   ],
   "source": [
    "with open('MOCK_DATA.json', 'r') as f:\n",
    "  data = json.load(f)\n",
    "  json_str = json.dumps(data, indent = 4)\n",
    "\n",
    "max_char = 1000\n",
    "\n",
    "print(json_str[:max_char])\n"
   ]
  },
  {
   "cell_type": "code",
   "execution_count": 28,
   "id": "ef4b3ae1",
   "metadata": {},
   "outputs": [],
   "source": [
    "df = pd.read_json ('MOCK_DATA.json')"
   ]
  },
  {
   "cell_type": "code",
   "execution_count": 29,
   "id": "83da9c52",
   "metadata": {},
   "outputs": [
    {
     "data": {
      "text/html": [
       "<div>\n",
       "<style scoped>\n",
       "    .dataframe tbody tr th:only-of-type {\n",
       "        vertical-align: middle;\n",
       "    }\n",
       "\n",
       "    .dataframe tbody tr th {\n",
       "        vertical-align: top;\n",
       "    }\n",
       "\n",
       "    .dataframe thead th {\n",
       "        text-align: right;\n",
       "    }\n",
       "</style>\n",
       "<table border=\"1\" class=\"dataframe\">\n",
       "  <thead>\n",
       "    <tr style=\"text-align: right;\">\n",
       "      <th></th>\n",
       "      <th>id</th>\n",
       "      <th>first_name</th>\n",
       "      <th>last_name</th>\n",
       "      <th>gender</th>\n",
       "      <th>email</th>\n",
       "    </tr>\n",
       "  </thead>\n",
       "  <tbody>\n",
       "    <tr>\n",
       "      <th>0</th>\n",
       "      <td>1</td>\n",
       "      <td>Terrance</td>\n",
       "      <td>Chasmar</td>\n",
       "      <td>Male</td>\n",
       "      <td>tchasmar0@cbsnews.com</td>\n",
       "    </tr>\n",
       "    <tr>\n",
       "      <th>1</th>\n",
       "      <td>2</td>\n",
       "      <td>Lorenzo</td>\n",
       "      <td>Elgram</td>\n",
       "      <td>Male</td>\n",
       "      <td>lelgram1@bravesites.com</td>\n",
       "    </tr>\n",
       "    <tr>\n",
       "      <th>2</th>\n",
       "      <td>3</td>\n",
       "      <td>Fabe</td>\n",
       "      <td>Cheesley</td>\n",
       "      <td>Male</td>\n",
       "      <td>fcheesley2@nymag.com</td>\n",
       "    </tr>\n",
       "    <tr>\n",
       "      <th>3</th>\n",
       "      <td>4</td>\n",
       "      <td>Abigael</td>\n",
       "      <td>Robion</td>\n",
       "      <td>Female</td>\n",
       "      <td>arobion3@xrea.com</td>\n",
       "    </tr>\n",
       "    <tr>\n",
       "      <th>4</th>\n",
       "      <td>5</td>\n",
       "      <td>Tim</td>\n",
       "      <td>Lethieulier</td>\n",
       "      <td>Male</td>\n",
       "      <td>tlethieulier4@tripod.com</td>\n",
       "    </tr>\n",
       "    <tr>\n",
       "      <th>...</th>\n",
       "      <td>...</td>\n",
       "      <td>...</td>\n",
       "      <td>...</td>\n",
       "      <td>...</td>\n",
       "      <td>...</td>\n",
       "    </tr>\n",
       "    <tr>\n",
       "      <th>995</th>\n",
       "      <td>996</td>\n",
       "      <td>Adelheid</td>\n",
       "      <td>Fincken</td>\n",
       "      <td>Female</td>\n",
       "      <td>afinckenrn@deliciousdays.com</td>\n",
       "    </tr>\n",
       "    <tr>\n",
       "      <th>996</th>\n",
       "      <td>997</td>\n",
       "      <td>Clotilda</td>\n",
       "      <td>Dominici</td>\n",
       "      <td>Female</td>\n",
       "      <td>cdominiciro@elpais.com</td>\n",
       "    </tr>\n",
       "    <tr>\n",
       "      <th>997</th>\n",
       "      <td>998</td>\n",
       "      <td>Jan</td>\n",
       "      <td>Labadini</td>\n",
       "      <td>Male</td>\n",
       "      <td>jlabadinirp@123-reg.co.uk</td>\n",
       "    </tr>\n",
       "    <tr>\n",
       "      <th>998</th>\n",
       "      <td>999</td>\n",
       "      <td>Filberte</td>\n",
       "      <td>Saxelby</td>\n",
       "      <td>Male</td>\n",
       "      <td>fsaxelbyrq@hexun.com</td>\n",
       "    </tr>\n",
       "    <tr>\n",
       "      <th>999</th>\n",
       "      <td>1000</td>\n",
       "      <td>Florence</td>\n",
       "      <td>Latta</td>\n",
       "      <td>Agender</td>\n",
       "      <td>flattarr@google.nl</td>\n",
       "    </tr>\n",
       "  </tbody>\n",
       "</table>\n",
       "<p>1000 rows × 5 columns</p>\n",
       "</div>"
      ],
      "text/plain": [
       "       id first_name    last_name   gender                         email\n",
       "0       1   Terrance      Chasmar     Male         tchasmar0@cbsnews.com\n",
       "1       2    Lorenzo       Elgram     Male       lelgram1@bravesites.com\n",
       "2       3       Fabe     Cheesley     Male          fcheesley2@nymag.com\n",
       "3       4    Abigael       Robion   Female             arobion3@xrea.com\n",
       "4       5        Tim  Lethieulier     Male      tlethieulier4@tripod.com\n",
       "..    ...        ...          ...      ...                           ...\n",
       "995   996   Adelheid      Fincken   Female  afinckenrn@deliciousdays.com\n",
       "996   997   Clotilda     Dominici   Female        cdominiciro@elpais.com\n",
       "997   998        Jan     Labadini     Male     jlabadinirp@123-reg.co.uk\n",
       "998   999   Filberte      Saxelby     Male          fsaxelbyrq@hexun.com\n",
       "999  1000   Florence        Latta  Agender            flattarr@google.nl\n",
       "\n",
       "[1000 rows x 5 columns]"
      ]
     },
     "execution_count": 29,
     "metadata": {},
     "output_type": "execute_result"
    }
   ],
   "source": [
    "df"
   ]
  },
  {
   "cell_type": "code",
   "execution_count": 31,
   "id": "22b5f9a2",
   "metadata": {},
   "outputs": [],
   "source": [
    "df.to_csv('data.csv', index=False)"
   ]
  },
  {
   "cell_type": "markdown",
   "id": "f2af3279",
   "metadata": {},
   "source": [
    "## Acessando dados de uma API"
   ]
  },
  {
   "cell_type": "code",
   "execution_count": 140,
   "id": "a69f0a54",
   "metadata": {},
   "outputs": [],
   "source": [
    "url = \"http://api.open-notify.org/iss-now.json\""
   ]
  },
  {
   "cell_type": "code",
   "execution_count": 141,
   "id": "829e9400",
   "metadata": {},
   "outputs": [],
   "source": [
    "\n",
    "response = urllib.request.urlopen(url) \n",
    "result = json.loads(response.read())"
   ]
  },
  {
   "cell_type": "code",
   "execution_count": 142,
   "id": "35084fa1",
   "metadata": {},
   "outputs": [
    {
     "name": "stdout",
     "output_type": "stream",
     "text": [
      "{'timestamp': 1698523174, 'message': 'success', 'iss_position': {'longitude': '-34.6011', 'latitude': '-51.4881'}}\n"
     ]
    }
   ],
   "source": [
    "print(result)"
   ]
  },
  {
   "cell_type": "code",
   "execution_count": 143,
   "id": "ede73c46",
   "metadata": {},
   "outputs": [],
   "source": [
    "latitude = result['iss_position']['latitude']\n",
    "longitude = result['iss_position']['longitude']"
   ]
  },
  {
   "cell_type": "code",
   "execution_count": 144,
   "id": "67679948",
   "metadata": {},
   "outputs": [
    {
     "name": "stdout",
     "output_type": "stream",
     "text": [
      "-51.4881 -34.6011\n"
     ]
    }
   ],
   "source": [
    "print(latitude, longitude)"
   ]
  },
  {
   "cell_type": "code",
   "execution_count": 145,
   "id": "c731e45d",
   "metadata": {},
   "outputs": [],
   "source": [
    "m = folium.Map(location=[latitude, longitude], zoom_start=4)"
   ]
  },
  {
   "cell_type": "code",
   "execution_count": 146,
   "id": "a17d9dc4",
   "metadata": {},
   "outputs": [
    {
     "data": {
      "text/plain": [
       "<folium.map.Marker at 0x7f0e3ff7b340>"
      ]
     },
     "execution_count": 146,
     "metadata": {},
     "output_type": "execute_result"
    }
   ],
   "source": [
    "folium.Marker([latitude, longitude], popup='ISS Location').add_to(m)"
   ]
  },
  {
   "cell_type": "code",
   "execution_count": 135,
   "id": "43121911",
   "metadata": {},
   "outputs": [],
   "source": [
    "m.save('iss_location.html')"
   ]
  }
 ],
 "metadata": {
  "kernelspec": {
   "display_name": "Python 3",
   "language": "python",
   "name": "python3"
  },
  "language_info": {
   "codemirror_mode": {
    "name": "ipython",
    "version": 3
   },
   "file_extension": ".py",
   "mimetype": "text/x-python",
   "name": "python",
   "nbconvert_exporter": "python",
   "pygments_lexer": "ipython3",
   "version": "3.10.12"
  }
 },
 "nbformat": 4,
 "nbformat_minor": 5
}
